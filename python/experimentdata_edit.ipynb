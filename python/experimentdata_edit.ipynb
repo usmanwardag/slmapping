{
 "cells": [
  {
   "cell_type": "code",
   "execution_count": 1,
   "metadata": {},
   "outputs": [
    {
     "data": {
      "text/plain": [
       "131072"
      ]
     },
     "execution_count": 1,
     "metadata": {},
     "output_type": "execute_result"
    }
   ],
   "source": [
    "import csv\n",
    "from gensim.models import KeyedVectors\n",
    "import numpy as np\n",
    "import pickle\n",
    "from spatial import get_grid, find_similarity\n",
    "from utils import contain_punctuation\n",
    "\n",
    "csv.field_size_limit(500 * 1024 * 1024)"
   ]
  },
  {
   "cell_type": "markdown",
   "metadata": {},
   "source": [
    "## Loading and Utility Functions"
   ]
  },
  {
   "cell_type": "code",
   "execution_count": 4,
   "metadata": {},
   "outputs": [],
   "source": [
    "word2vec = KeyedVectors.load_word2vec_format('wiki/wiki.it.vec')"
   ]
  },
  {
   "cell_type": "code",
   "execution_count": 5,
   "metadata": {
    "collapsed": true
   },
   "outputs": [],
   "source": [
    "semantic_thresh = 0.50\n",
    "lexical_thresh = 0.95"
   ]
  },
  {
   "cell_type": "code",
   "execution_count": 11,
   "metadata": {
    "collapsed": true
   },
   "outputs": [],
   "source": [
    "def get_words(language='en', words=None, length=None, isogram=False, max_len=None):    \n",
    "    \n",
    "    if words is None and language == 'en':\n",
    "        with open('data/words_en.pickle', 'rb') as f:\n",
    "            words = pickle.load(f)    \n",
    "            \n",
    "    if words is None and language == 'it':\n",
    "        with open('data/words_it.pickle', 'rb') as f:\n",
    "            words = pickle.load(f)    \n",
    "            \n",
    "    if length is not None:\n",
    "        words = [w for w in words if len(w) == length]\n",
    "    \n",
    "    if isogram == True:\n",
    "        words = [w for w in words if len(set(w))==len(w)]\n",
    "        \n",
    "    if max_len is not None:\n",
    "        words = [w for w in words if len(w) < max_len]\n",
    "        \n",
    "    return words\n",
    "\n",
    "def filter_words(template): \n",
    "    return [w for w in words if w[:2] == template]\n",
    "\n",
    "def get_semantic_neighbors(word):    \n",
    "    densities = ''  \n",
    "    words = word2vec.similar_by_word(word, topn=1000000)\n",
    "    \n",
    "    for i, word in enumerate(words):\n",
    "        if word[1] > semantic_thresh:\n",
    "            if i != 0:\n",
    "                densities += ' '\n",
    "            densities += word[0] \n",
    "            densities += ':'\n",
    "            densities += str(word[1])\n",
    "\n",
    "    return densities\n",
    "\n",
    "def get_lexical_neighbors(target, words):\n",
    "    densities = ''\n",
    "        \n",
    "    for i, w in enumerate(words):\n",
    "        sim = find_similarity(w, target)\n",
    "\n",
    "        if sim > lexical_thresh:\n",
    "            if i != 0:\n",
    "                densities += ' '\n",
    "            densities += w \n",
    "            densities += ':' \n",
    "            densities += str(sim)\n",
    "\n",
    "    return densities\n",
    "\n",
    "def get_lexical_similarity(w1, w2):    \n",
    "    return find_similarity(w1, w2)\n",
    "\n",
    "def get_semantic_similarity(w1, w2):\n",
    "    return word2vec.similarity(w1, w2)\n"
   ]
  },
  {
   "cell_type": "code",
   "execution_count": 7,
   "metadata": {
    "collapsed": true
   },
   "outputs": [],
   "source": [
    "words = get_words(language='it', max_len=26)"
   ]
  },
  {
   "cell_type": "markdown",
   "metadata": {},
   "source": [
    "## Load experiment data (primes, targets and RTs)"
   ]
  },
  {
   "cell_type": "markdown",
   "metadata": {},
   "source": [
    "<b>Read data from original experiment csv, compute semantic and lexical distances and add four new columns to the data. </b>\n",
    "\n",
    "<b> TODO: Think of a concrete density metric which can then be added as a new column.</b>"
   ]
  },
  {
   "cell_type": "code",
   "execution_count": 19,
   "metadata": {},
   "outputs": [],
   "source": [
    "data = []\n",
    "with open('data/exp_data.csv', 'r') as f:\n",
    "    reader = csv.reader(f)\n",
    "    \n",
    "    for row in reader:\n",
    "        try:\n",
    "            l_dist = 1 - get_lexical_similarity(row[0], row[1])\n",
    "            s_dist = 1 - get_semantic_similarity(row[0], row[1])\n",
    "\n",
    "            new_row = row\n",
    "            new_row.extend([l_dist, s_dist, l_dist + s_dist, l_dist * s_dist])\n",
    "            data.append(new_row)\n",
    "        except:\n",
    "            continue"
   ]
  },
  {
   "cell_type": "code",
   "execution_count": 22,
   "metadata": {},
   "outputs": [],
   "source": [
    "with open('data/exp_data_new.csv', 'w') as f:\n",
    "    writer = csv.writer(f)\n",
    "    header = ['Target', 'Prime', 'Tick(s)', 'RT', 'LD', 'SD', 'LD+SD', 'LD*SD']\n",
    "    \n",
    "    writer.writerow(header)\n",
    "\n",
    "    for row in data:\n",
    "        writer.writerow(row)"
   ]
  }
 ],
 "metadata": {
  "kernelspec": {
   "display_name": "Python 3",
   "language": "python",
   "name": "python3"
  },
  "language_info": {
   "codemirror_mode": {
    "name": "ipython",
    "version": 3
   },
   "file_extension": ".py",
   "mimetype": "text/x-python",
   "name": "python",
   "nbconvert_exporter": "python",
   "pygments_lexer": "ipython3",
   "version": "3.6.3"
  }
 },
 "nbformat": 4,
 "nbformat_minor": 2
}
