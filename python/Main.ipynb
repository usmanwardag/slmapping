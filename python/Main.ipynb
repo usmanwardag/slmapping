{
 "cells": [
  {
   "cell_type": "code",
   "execution_count": 1,
   "metadata": {
    "collapsed": true
   },
   "outputs": [],
   "source": [
    "import csv\n",
    "from gensim.models import KeyedVectors\n",
    "import matplotlib.pyplot as plt\n",
    "import numpy as np\n",
    "import pandas as pd\n",
    "import pickle\n",
    "from sklearn.decomposition import PCA\n",
    "from spatial import get_grid, find_similarity\n",
    "from utils import contain_punctuation\n",
    "\n",
    "plt.style.use('ggplot')\n",
    "plt.rc('text', usetex=True)\n",
    "plt.rc('font', family='serif')\n",
    "\n",
    "csv.field_size_limit(500 * 1024 * 1024)\n",
    "\n",
    "%matplotlib inline"
   ]
  },
  {
   "cell_type": "markdown",
   "metadata": {},
   "source": [
    "## Loading and Utility Functions"
   ]
  },
  {
   "cell_type": "code",
   "execution_count": 6,
   "metadata": {
    "collapsed": true
   },
   "outputs": [],
   "source": [
    "word2vec = KeyedVectors.load_word2vec_format('wiki/wiki.it.vec')"
   ]
  },
  {
   "cell_type": "code",
   "execution_count": 7,
   "metadata": {
    "collapsed": true
   },
   "outputs": [],
   "source": [
    "semantic_thresh = 0.50\n",
    "lexical_thresh = 0.95"
   ]
  },
  {
   "cell_type": "code",
   "execution_count": 3,
   "metadata": {
    "collapsed": true
   },
   "outputs": [],
   "source": [
    "def get_words(language='en', words=None, length=None, isogram=False, max_len=None):    \n",
    "    \n",
    "    if words is None and language == 'en':\n",
    "        with open('data/words_en.pickle', 'rb') as f:\n",
    "            words = pickle.load(f)    \n",
    "            \n",
    "    if words is None and language == 'it':\n",
    "        with open('data/words_it.pickle', 'rb') as f:\n",
    "            words = pickle.load(f)    \n",
    "            \n",
    "    if length is not None:\n",
    "        words = [w for w in words if len(w) == length]\n",
    "    \n",
    "    if isogram == True:\n",
    "        words = [w for w in words if len(set(w))==len(w)]\n",
    "        \n",
    "    if max_len is not None:\n",
    "        words = [w for w in words if len(w) < max_len]\n",
    "        \n",
    "    return words\n",
    "\n",
    "def filter_words(template):\n",
    "    \n",
    "    return [w for w in words if w[:2] == template]\n",
    "\n",
    "def get_semantic_neighbors(word):    \n",
    "    densities = ''\n",
    "    \n",
    "    words = word2vec.similar_by_word(word, topn=1000000)\n",
    "    \n",
    "    for i, word in enumerate(words):\n",
    "        if word[1] > semantic_thresh:\n",
    "            if i != 0:\n",
    "                densities += ' '\n",
    "            densities += word[0] \n",
    "            densities += ':'\n",
    "            densities += str(word[1])\n",
    "\n",
    "    return densities\n",
    "\n",
    "def get_lexical_neighbors(target, words):\n",
    "    densities = ''\n",
    "        \n",
    "    for i, w in enumerate(words):\n",
    "        sim = find_similarity(w, target)\n",
    "\n",
    "        if sim > lexical_thresh:\n",
    "            if i != 0:\n",
    "                densities += ' '\n",
    "            densities += w \n",
    "            densities += ':' \n",
    "            densities += str(sim)\n",
    "\n",
    "    return densities"
   ]
  },
  {
   "cell_type": "code",
   "execution_count": 4,
   "metadata": {
    "collapsed": true
   },
   "outputs": [],
   "source": [
    "#words = [word for word in word2vec.vocab if not contain_punctuation(word)]\n",
    "words = get_words(language='it', max_len=26)"
   ]
  },
  {
   "cell_type": "markdown",
   "metadata": {},
   "source": [
    "## Load experiment data (primes, targets and RTs)"
   ]
  },
  {
   "cell_type": "code",
   "execution_count": 5,
   "metadata": {
    "collapsed": true
   },
   "outputs": [],
   "source": [
    "data = []\n",
    "with open('data/experiment_data.csv', 'r') as f:\n",
    "    reader = csv.reader(f)\n",
    "    \n",
    "    for row in reader:\n",
    "        data.append(row)\n",
    "\n",
    "targets = [d[0] for d in data if d[2] == '1']\n",
    "primes = [d[1] for d in data if d[2] == '1']\n",
    "desired = targets\n",
    "desired.extend(primes)"
   ]
  },
  {
   "cell_type": "markdown",
   "metadata": {},
   "source": [
    "## Save semantic neighbors of words"
   ]
  },
  {
   "cell_type": "code",
   "execution_count": 33,
   "metadata": {
    "scrolled": true
   },
   "outputs": [
    {
     "name": "stdout",
     "output_type": "stream",
     "text": [
      "0 visino\n",
      "1 zainetto\n"
     ]
    }
   ],
   "source": [
    "with open('data/semantic_neighbors1.csv', 'w') as f:\n",
    "    writer = csv.writer(f)\n",
    "    header = ['word', 'neighbors']\n",
    "    writer.writerow(header)\n",
    "\n",
    "    for i, d in enumerate(desired[556:]):\n",
    "        print(i, d)\n",
    "        vals = get_semantic_neighbors(d)\n",
    "        row = [d, vals]\n",
    "        writer.writerow(row)"
   ]
  },
  {
   "cell_type": "markdown",
   "metadata": {},
   "source": [
    "## Lexical Neighbors of words"
   ]
  },
  {
   "cell_type": "code",
   "execution_count": 20,
   "metadata": {
    "scrolled": true
   },
   "outputs": [
    {
     "name": "stdout",
     "output_type": "stream",
     "text": [
      "0 sassata\n",
      "1 scarpina\n",
      "2 scimmietta\n",
      "3 servile\n",
      "4 soldino\n",
      "5 stilista\n",
      "6 tastiera\n",
      "7 tavolata\n",
      "8 taxista\n",
      "9 tazzina\n",
      "10 tendone\n",
      "11 terrestre\n",
      "12 tigrotto\n",
      "13 torello\n",
      "14 torretta\n",
      "15 tortina\n",
      "16 trombetta\n",
      "17 unghietta\n",
      "18 vasetto\n",
      "19 veliero\n",
      "20 vestitino\n",
      "21 vetrata\n",
      "22 vigilanza\n",
      "23 villona\n",
      "24 visino\n",
      "25 zainetto\n"
     ]
    }
   ],
   "source": [
    "with open('data/lexical_neighbors1.csv', 'w') as f:\n",
    "    writer = csv.writer(f)\n",
    "    header = ['word', 'neighbors']\n",
    "    writer.writerow(header)\n",
    "\n",
    "    for i, d in enumerate(desired[532:]):\n",
    "        print(i, d)\n",
    "        vals = get_lexical_neighbors(d, filter_words(d[:2]))\n",
    "        row = [d, vals]\n",
    "        writer.writerow(row)"
   ]
  },
  {
   "cell_type": "markdown",
   "metadata": {
    "collapsed": true
   },
   "source": [
    "### Read lexical neigbor list and find the distance of top neighbors on semantic map"
   ]
  },
  {
   "cell_type": "code",
   "execution_count": 16,
   "metadata": {
    "scrolled": true
   },
   "outputs": [
    {
     "name": "stdout",
     "output_type": "stream",
     "text": [
      "553\n"
     ]
    }
   ],
   "source": [
    "final_words = []\n",
    "final_neighbors = []\n",
    "\n",
    "with open('data/lexical_neighbors.csv', 'r') as f:\n",
    "    reader = csv.reader(f)\n",
    "    \n",
    "    # How many top lexical neigbors to extract?\n",
    "    TOP_ITEMS = None\n",
    "    \n",
    "    for count, row in enumerate(reader):\n",
    "        \n",
    "        if count == 0:\n",
    "            continue\n",
    "        \n",
    "        target = row[0]\n",
    "        neighbors = row[1].split(\" \")[1:]\n",
    "        names = [n.split(\":\")[0] for n in neighbors]\n",
    "        scores = [float(n.split(\":\")[1]) for n in neighbors]\n",
    "        \n",
    "        order = np.flip(np.argsort(scores), axis=0)\n",
    "        names = [names[o] for o in order]\n",
    "        \n",
    "        if TOP_ITEMS is not None:\n",
    "            if len(order) > TOP_ITEMS:\n",
    "                order = order[:TOP_ITEMS]\n",
    "                names = names[:TOP_ITEMS]\n",
    "                \n",
    "        try:\n",
    "            similarities = [word2vec.similarity(target, n) for n in names]\n",
    "            neighbors = [neighbors[o] + ':' + str(s) + ':' + str(len(scores)) for o,s in zip(order, similarities)]\n",
    "            neighbors = ' '.join(neighbors)\n",
    "        except:\n",
    "            continue\n",
    "        \n",
    "        final_words.append(target)\n",
    "        final_neighbors.append(neighbors)\n",
    "        \n",
    "        count += 1\n",
    "\n",
    "print(len(final_words))\n",
    "rows = zip(final_words, final_neighbors)\n",
    "\n",
    "for row in rows:\n",
    "    with open('data/neighbors/' + row[0] + '.csv', 'w') as f:\n",
    "        writer = csv.writer(f)  \n",
    "        header = ['word', 'neighbors']\n",
    "        writer.writerow(header)\n",
    "        writer.writerow(row)"
   ]
  },
  {
   "cell_type": "markdown",
   "metadata": {
    "collapsed": true
   },
   "source": [
    "### Read semantic neighbors csv and create csv for each word"
   ]
  },
  {
   "cell_type": "code",
   "execution_count": 21,
   "metadata": {},
   "outputs": [],
   "source": [
    "rows = []\n",
    "\n",
    "with open('data/semantic_neighbors.csv', 'r') as f:\n",
    "    reader = csv.reader(f)\n",
    "    \n",
    "    for row in reader:\n",
    "        rows.append(row)\n",
    "        \n",
    "for row in rows:\n",
    "    with open('data/semantic_neighbors/' + row[0] + '.csv', 'w') as f:\n",
    "        writer = csv.writer(f)  \n",
    "        header = ['word', 'neighbors']\n",
    "        writer.writerow(header)\n",
    "        writer.writerow(row)"
   ]
  },
  {
   "cell_type": "code",
   "execution_count": null,
   "metadata": {
    "collapsed": true
   },
   "outputs": [],
   "source": []
  },
  {
   "cell_type": "code",
   "execution_count": null,
   "metadata": {
    "collapsed": true
   },
   "outputs": [],
   "source": []
  },
  {
   "cell_type": "code",
   "execution_count": null,
   "metadata": {
    "collapsed": true
   },
   "outputs": [],
   "source": []
  },
  {
   "cell_type": "code",
   "execution_count": null,
   "metadata": {
    "collapsed": true
   },
   "outputs": [],
   "source": []
  },
  {
   "cell_type": "code",
   "execution_count": null,
   "metadata": {
    "collapsed": true
   },
   "outputs": [],
   "source": []
  },
  {
   "cell_type": "code",
   "execution_count": null,
   "metadata": {
    "collapsed": true
   },
   "outputs": [],
   "source": []
  },
  {
   "cell_type": "code",
   "execution_count": null,
   "metadata": {
    "collapsed": true
   },
   "outputs": [],
   "source": [
    "def get_words(language='en', words=None, length=None, isogram=True):    \n",
    "    \n",
    "    if words is None and language == 'en':\n",
    "        with open('data/words_en.pickle', 'rb') as f:\n",
    "            words = pickle.load(f)    \n",
    "            \n",
    "    if length is not None:\n",
    "        words = [w for w in words if len(w) == length]\n",
    "    \n",
    "    if isogram == True:\n",
    "        words = [w for w in words if len(set(w))==len(w)]\n",
    "        \n",
    "    return words\n",
    "\n",
    "def get_semantic_vectors(words):\n",
    "    vectors = np.array([word2vec[word] for word in words])\n",
    "    return vectors\n",
    "\n",
    "def get_lexical_vectors(words, dimensions):\n",
    "    grids = np.array([get_grid(w, repeat=1, normalize=True) for w in words])\n",
    "    pca = PCA(n_components=dimensions)\n",
    "    pca.fit(grids)\n",
    "    return pca.fit_transform(grids)\n",
    "\n",
    "def save_txt_to_csv():\n",
    "    # Maybe required later.\n",
    "    targets, primes, ticks, conditions, rts = [], [], [], [], []\n",
    "    data = pd.read_csv('data/data.txt', delimiter='\\t')\n",
    "\n",
    "    for i in range(len(data)):\n",
    "        row = data[data.columns[0]][i].split(' ')\n",
    "        row = [r for r in row if r != '']\n",
    "        targets.append(row[0])\n",
    "        primes.append(row[1][1:-1])\n",
    "        ticks.append(row[2][1:-1])\n",
    "        conditions.append(row[3][1:-1])\n",
    "        rts.append(row[4])\n",
    "\n",
    "    rows = zip(targets, primes, ticks, conditions, rts)\n",
    "\n",
    "    with open('data/experiment_data.csv', 'w') as f:\n",
    "        writer = csv.writer(f)\n",
    "\n",
    "        for row in rows:\n",
    "            writer.writerow(row)"
   ]
  }
 ],
 "metadata": {
  "kernelspec": {
   "display_name": "Python 3",
   "language": "python",
   "name": "python3"
  },
  "language_info": {
   "codemirror_mode": {
    "name": "ipython",
    "version": 3
   },
   "file_extension": ".py",
   "mimetype": "text/x-python",
   "name": "python",
   "nbconvert_exporter": "python",
   "pygments_lexer": "ipython3",
   "version": "3.6.3"
  }
 },
 "nbformat": 4,
 "nbformat_minor": 2
}
