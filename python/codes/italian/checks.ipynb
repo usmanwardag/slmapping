{
 "cells": [
  {
   "cell_type": "code",
   "execution_count": 1,
   "metadata": {},
   "outputs": [
    {
     "data": {
      "text/plain": [
       "131072"
      ]
     },
     "execution_count": 1,
     "metadata": {},
     "output_type": "execute_result"
    }
   ],
   "source": [
    "import csv\n",
    "from gensim.models import KeyedVectors\n",
    "import math\n",
    "import numpy as np\n",
    "import pickle\n",
    "from spatial import get_grid, find_similarity\n",
    "from utils import contain_punctuation\n",
    "\n",
    "csv.field_size_limit(500 * 1024 * 1024)"
   ]
  },
  {
   "cell_type": "code",
   "execution_count": 25,
   "metadata": {
    "collapsed": true
   },
   "outputs": [],
   "source": [
    "from sklearn.preprocessing import normalize, scale"
   ]
  },
  {
   "cell_type": "code",
   "execution_count": 76,
   "metadata": {},
   "outputs": [
    {
     "data": {
      "text/plain": [
       "array([ 0.00378831,  0.00245365,  0.00254464])"
      ]
     },
     "execution_count": 76,
     "metadata": {},
     "output_type": "execute_result"
    }
   ],
   "source": [
    "data = []\n",
    "with open('../../data/italian/rt_new.csv', 'r') as f:\n",
    "    reader = csv.reader(f)\n",
    "    \n",
    "    for row in reader:\n",
    "        data.append(row)\n",
    "        \n",
    "orthog = [r for r in data if r[3] == 'orthog' and r[2] == '1']\n",
    "transp = [r for r in data if r[3] == 'transp' and r[2] == '1']\n",
    "opaque = [r for r in data if r[3] == 'opaque' and r[2] == '1']\n",
    "\n",
    "sim_orthog = np.mean([float(r[5]) for r in orthog])\n",
    "sim_transp = np.mean([float(r[5]) for r in transp])\n",
    "sim_opaque = np.mean([float(r[5]) for r in opaque])\n",
    "\n",
    "x = np.array([sim_orthog, sim_transp, sim_opaque])\n",
    "x"
   ]
  },
  {
   "cell_type": "code",
   "execution_count": 67,
   "metadata": {},
   "outputs": [],
   "source": [
    "def count_common(w1, w2):\n",
    "    count = 0\n",
    "    for i in range(1, len(w1)+1):\n",
    "        if w1[:i] == w2[:i]:\n",
    "            count += 1\n",
    "        else:\n",
    "            break\n",
    "    return count"
   ]
  },
  {
   "cell_type": "code",
   "execution_count": 69,
   "metadata": {},
   "outputs": [
    {
     "name": "stdout",
     "output_type": "stream",
     "text": [
      "4.12941176471\n",
      "4.70930232558\n",
      "4.40449438202\n"
     ]
    }
   ],
   "source": [
    "data = []\n",
    "with open('../../data/italian/rt_new.csv', 'r') as f:\n",
    "    reader = csv.reader(f)\n",
    "    \n",
    "    for row in reader:\n",
    "        data.append(row)\n",
    "        \n",
    "orthog = [r for r in data if r[3] == 'orthog' and r[2] == '1']\n",
    "transp = [r for r in data if r[3] == 'transp' and r[2] == '1']\n",
    "opaque = [r for r in data if r[3] == 'opaque' and r[2] == '1']\n",
    "\n",
    "print(np.mean([count_common(r[0], r[1]) for r in orthog]))\n",
    "print(np.mean([count_common(r[0], r[1]) for r in transp]))\n",
    "print(np.mean([count_common(r[0], r[1]) for r in opaque]))"
   ]
  }
 ],
 "metadata": {
  "kernelspec": {
   "display_name": "Python 3",
   "language": "python",
   "name": "python3"
  },
  "language_info": {
   "codemirror_mode": {
    "name": "ipython",
    "version": 3
   },
   "file_extension": ".py",
   "mimetype": "text/x-python",
   "name": "python",
   "nbconvert_exporter": "python",
   "pygments_lexer": "ipython3",
   "version": "3.6.3"
  }
 },
 "nbformat": 4,
 "nbformat_minor": 2
}
