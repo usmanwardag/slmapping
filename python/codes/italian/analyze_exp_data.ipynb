{
 "cells": [
  {
   "cell_type": "code",
   "execution_count": 4,
   "metadata": {},
   "outputs": [],
   "source": [
    "import csv\n",
    "import numpy as np\n",
    "from matplotlib import pyplot as plt\n",
    "\n",
    "plt.style.use('ggplot')\n",
    "%matplotlib inline"
   ]
  },
  {
   "cell_type": "code",
   "execution_count": 30,
   "metadata": {},
   "outputs": [
    {
     "name": "stdout",
     "output_type": "stream",
     "text": [
      "Types:  Opaque Orthographic Transparent\n",
      "RTs:  580.063334574 599.420596075 556.420121984\n",
      "LDs:  0.00263871278731 0.00391236741918 0.00252193888752\n",
      "SDs:  0.670276653082 0.727020518374 0.448551228955\n",
      "LD + SDs:  0.672915365869 0.730932885793 0.451073167843\n",
      "LD * SDs:  0.00193884629167 0.003044462262 0.00122198834016\n"
     ]
    }
   ],
   "source": [
    "data = []\n",
    "with open('data/exp_data_new.csv', 'r') as f:\n",
    "    reader = csv.reader(f)\n",
    "    for i, row in enumerate(reader):\n",
    "        if i != 0:\n",
    "            data.append(row)\n",
    "            \n",
    "opaque = [row for row in data if row[3] == 'opaque']\n",
    "orthog = [row for row in data if row[3] == 'orthog']\n",
    "transp = [row for row in data if row[3] == 'transp']\n",
    "\n",
    "opaque_rt = np.mean([float(row[4]) for row in opaque])\n",
    "orthog_rt = np.mean([float(row[4]) for row in orthog])\n",
    "transp_rt = np.mean([float(row[4]) for row in transp])\n",
    "\n",
    "opaque_ld = np.mean([float(row[5]) for row in opaque])\n",
    "orthog_ld = np.mean([float(row[5]) for row in orthog])\n",
    "transp_ld = np.mean([float(row[5]) for row in transp])\n",
    "\n",
    "opaque_sd = np.mean([float(row[6]) for row in opaque])\n",
    "orthog_sd = np.mean([float(row[6]) for row in orthog])\n",
    "transp_sd = np.mean([float(row[6]) for row in transp])\n",
    "\n",
    "opaque_sdsumld = np.mean([float(row[7]) for row in opaque])\n",
    "orthog_sdsumld = np.mean([float(row[7]) for row in orthog])\n",
    "transp_sdsumld = np.mean([float(row[7]) for row in transp])\n",
    "\n",
    "opaque_sddotld = np.mean([float(row[8]) for row in opaque])\n",
    "orthog_sddotld = np.mean([float(row[8]) for row in orthog])\n",
    "transp_sddotld = np.mean([float(row[8]) for row in transp])\n",
    "\n",
    "print('Types: ', 'Opaque', 'Orthographic', 'Transparent')\n",
    "print('RTs: ', opaque_rt, orthog_rt, transp_rt)\n",
    "print('LDs: ', opaque_ld, orthog_ld, transp_ld)\n",
    "print('SDs: ', opaque_sd, orthog_sd, transp_sd)\n",
    "print('LD + SDs: ', opaque_sdsumld, orthog_sdsumld, transp_sdsumld)\n",
    "print('LD * SDs: ', opaque_sddotld, orthog_sddotld, transp_sddotld)"
   ]
  }
 ],
 "metadata": {
  "kernelspec": {
   "display_name": "Python 3",
   "language": "python",
   "name": "python3"
  },
  "language_info": {
   "codemirror_mode": {
    "name": "ipython",
    "version": 3
   },
   "file_extension": ".py",
   "mimetype": "text/x-python",
   "name": "python",
   "nbconvert_exporter": "python",
   "pygments_lexer": "ipython3",
   "version": "3.6.3"
  }
 },
 "nbformat": 4,
 "nbformat_minor": 2
}
