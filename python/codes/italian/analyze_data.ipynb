{
 "cells": [
  {
   "cell_type": "code",
   "execution_count": 2,
   "metadata": {
    "collapsed": true
   },
   "outputs": [],
   "source": [
    "import csv\n",
    "import numpy as np\n",
    "from matplotlib import pyplot as plt\n",
    "\n",
    "plt.style.use('ggplot')\n",
    "plt.rc('text', usetex=True)\n",
    "plt.rc('font', family='serif')\n",
    "%matplotlib inline"
   ]
  },
  {
   "cell_type": "code",
   "execution_count": 91,
   "metadata": {},
   "outputs": [],
   "source": [
    "rows = []\n",
    "with open('../../data/italian/rt_new.csv', 'r') as f:\n",
    "    reader = csv.reader(f)\n",
    "    for i, row in enumerate(reader):\n",
    "        if i != 0:\n",
    "            rows.append(row)\n",
    "            \n",
    "types = ['opaque', 'orthog', 'transp']\n",
    "\n",
    "data = [[r for r in rows if r[3] == t] for t in types]\n",
    "features = ['RT', 'F2 Prime', 'F1 Prime', 'f3', 'f4']\n",
    "#features = ['RT', 'LD', 'SD', 'LD + SD', 'LD * SD']\n",
    "\n",
    "means = []\n",
    "stds = []\n",
    "\n",
    "for i in range(4, 5):\n",
    "    x = [np.mean([float(r[i]) for r in d]) for d in data]\n",
    "    y = [np.std([float(r[i]) for r in d]) for d in data]\n",
    "    factor = np.max(x)\n",
    "    x /= factor\n",
    "    y /= factor\n",
    "        \n",
    "    means.append(x)\n",
    "    stds.append(y)\n",
    "    \n",
    "for i in range(-3, -3):\n",
    "    x = [np.mean([float(r[i]) for r in d]) for d in data]\n",
    "    y = [np.std([float(r[i]) for r in d]) for d in data]\n",
    "    \n",
    "    means.append(x)\n",
    "    stds.append(y)\n",
    "    \n",
    "for i in range(-1, 0):\n",
    "    x = [np.mean([float(r[i]) for r in d]) for d in data]\n",
    "    y = [np.std([float(r[i]) for r in d]) for d in data]\n",
    "    \n",
    "    means.append(x)\n",
    "    stds.append(y)"
   ]
  },
  {
   "cell_type": "code",
   "execution_count": 92,
   "metadata": {},
   "outputs": [
    {
     "data": {
      "text/plain": [
       "(array([ 0.5,  0.6,  0.7,  0.8,  0.9,  1. ,  1.1,  1.2]),\n",
       " <a list of 8 Text yticklabel objects>)"
      ]
     },
     "execution_count": 92,
     "metadata": {},
     "output_type": "execute_result"
    },
    {
     "data": {
      "image/png": "[encoded data removed]",
      "text/plain": [
       "<matplotlib.figure.Figure at 0x109ce4978>"
      ]
     },
     "metadata": {},
     "output_type": "display_data"
    }
   ],
   "source": [
    "handles = []\n",
    "x = range(0,3)\n",
    "\n",
    "plt.figure(figsize=(10,8))\n",
    "for i, mean in enumerate(means):\n",
    "    handle, = plt.plot(x, mean, '.--', label=features[i])\n",
    "    plt.fill_between(x, np.array(mean)-stds[i], np.array(mean)+stds[i], alpha=0.1)\n",
    "    handles.append(handle)\n",
    "    \n",
    "plt.legend(handles=handles, fontsize='16')\n",
    "plt.xticks(range(0,3), types, fontsize='20')\n",
    "plt.yticks(fontsize='16')"
   ]
  },
  {
   "cell_type": "code",
   "execution_count": 71,
   "metadata": {},
   "outputs": [
    {
     "data": {
      "text/plain": [
       "[array([ 0.96945647,  1.        ,  0.9320892 ]),\n",
       " [0.61530616782331737, 0.62579222460472417, 0.68317949566150815]]"
      ]
     },
     "execution_count": 71,
     "metadata": {},
     "output_type": "execute_result"
    }
   ],
   "source": [
    "means "
   ]
  },
  {
   "cell_type": "code",
   "execution_count": 72,
   "metadata": {},
   "outputs": [
    {
     "data": {
      "text/plain": [
       "[array([ 0.09247243,  0.1011329 ,  0.06680013]),\n",
       " [0.10634912054570249, 0.12125701996674727, 0.13573852921525714]]"
      ]
     },
     "execution_count": 72,
     "metadata": {},
     "output_type": "execute_result"
    }
   ],
   "source": [
    "stds"
   ]
  },
  {
   "cell_type": "code",
   "execution_count": 75,
   "metadata": {},
   "outputs": [
    {
     "data": {
      "text/plain": [
       "[array([ 0.96945647,  1.        ,  0.9320892 ]),\n",
       " [0.66900953942285168, 0.6713056073890229, 0.70008108513188039]]"
      ]
     },
     "execution_count": 75,
     "metadata": {},
     "output_type": "execute_result"
    }
   ],
   "source": [
    "means"
   ]
  },
  {
   "cell_type": "code",
   "execution_count": 76,
   "metadata": {},
   "outputs": [
    {
     "data": {
      "text/plain": [
       "[array([ 0.09247243,  0.1011329 ,  0.06680013]),\n",
       " [0.094199822261821303, 0.084074723465947465, 0.088035962515876837]]"
      ]
     },
     "execution_count": 76,
     "metadata": {},
     "output_type": "execute_result"
    }
   ],
   "source": [
    "stds"
   ]
  }
 ],
 "metadata": {
  "kernelspec": {
   "display_name": "Python 3",
   "language": "python",
   "name": "python3"
  },
  "language_info": {
   "codemirror_mode": {
    "name": "ipython",
    "version": 3
   },
   "file_extension": ".py",
   "mimetype": "text/x-python",
   "name": "python",
   "nbconvert_exporter": "python",
   "pygments_lexer": "ipython3",
   "version": "3.6.3"
  }
 },
 "nbformat": 4,
 "nbformat_minor": 2
}
